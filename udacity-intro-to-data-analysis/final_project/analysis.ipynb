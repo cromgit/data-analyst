{
 "cells": [
  {
   "cell_type": "markdown",
   "metadata": {
    "collapsed": true
   },
   "source": [
    "# Data exploration"
   ]
  },
  {
   "cell_type": "markdown",
   "metadata": {},
   "source": [
    "There are several interesting questions to ask. The articles below pose several observations made by survivors. We would like to validate these observations with the data.\n",
    "\n",
    "https://en.wikipedia.org/wiki/RMS_Titanic#Sinking\n",
    "https://www.encyclopedia-titanica.org/titanic-deckplans/c-deck.html\n",
    "https://en.wikipedia.org/wiki/Lifeboats_of_the_RMS_Titanic\n",
    "\n",
    "\n",
    "Were women and children more likely to survive?\n",
    "Were third class passengers much less likely to survive?\n",
    "Are cabins on port or starboard more likely to survive?\n"
   ]
  },
  {
   "cell_type": "code",
   "execution_count": 380,
   "metadata": {
    "collapsed": false
   },
   "outputs": [
    {
     "data": {
      "text/html": [
       "<div>\n",
       "<table border=\"1\" class=\"dataframe\">\n",
       "  <thead>\n",
       "    <tr style=\"text-align: right;\">\n",
       "      <th></th>\n",
       "      <th>PassengerId</th>\n",
       "      <th>Survived</th>\n",
       "      <th>Pclass</th>\n",
       "      <th>Age</th>\n",
       "      <th>SibSp</th>\n",
       "      <th>Parch</th>\n",
       "      <th>Fare</th>\n",
       "    </tr>\n",
       "  </thead>\n",
       "  <tbody>\n",
       "    <tr>\n",
       "      <th>count</th>\n",
       "      <td>891.000000</td>\n",
       "      <td>891.000000</td>\n",
       "      <td>891.000000</td>\n",
       "      <td>714.000000</td>\n",
       "      <td>891.000000</td>\n",
       "      <td>891.000000</td>\n",
       "      <td>891.000000</td>\n",
       "    </tr>\n",
       "    <tr>\n",
       "      <th>mean</th>\n",
       "      <td>446.000000</td>\n",
       "      <td>0.383838</td>\n",
       "      <td>2.308642</td>\n",
       "      <td>29.699118</td>\n",
       "      <td>0.523008</td>\n",
       "      <td>0.381594</td>\n",
       "      <td>32.204208</td>\n",
       "    </tr>\n",
       "    <tr>\n",
       "      <th>std</th>\n",
       "      <td>257.353842</td>\n",
       "      <td>0.486592</td>\n",
       "      <td>0.836071</td>\n",
       "      <td>14.526497</td>\n",
       "      <td>1.102743</td>\n",
       "      <td>0.806057</td>\n",
       "      <td>49.693429</td>\n",
       "    </tr>\n",
       "    <tr>\n",
       "      <th>min</th>\n",
       "      <td>1.000000</td>\n",
       "      <td>0.000000</td>\n",
       "      <td>1.000000</td>\n",
       "      <td>0.420000</td>\n",
       "      <td>0.000000</td>\n",
       "      <td>0.000000</td>\n",
       "      <td>0.000000</td>\n",
       "    </tr>\n",
       "    <tr>\n",
       "      <th>25%</th>\n",
       "      <td>223.500000</td>\n",
       "      <td>0.000000</td>\n",
       "      <td>2.000000</td>\n",
       "      <td>20.125000</td>\n",
       "      <td>0.000000</td>\n",
       "      <td>0.000000</td>\n",
       "      <td>7.910400</td>\n",
       "    </tr>\n",
       "    <tr>\n",
       "      <th>50%</th>\n",
       "      <td>446.000000</td>\n",
       "      <td>0.000000</td>\n",
       "      <td>3.000000</td>\n",
       "      <td>28.000000</td>\n",
       "      <td>0.000000</td>\n",
       "      <td>0.000000</td>\n",
       "      <td>14.454200</td>\n",
       "    </tr>\n",
       "    <tr>\n",
       "      <th>75%</th>\n",
       "      <td>668.500000</td>\n",
       "      <td>1.000000</td>\n",
       "      <td>3.000000</td>\n",
       "      <td>38.000000</td>\n",
       "      <td>1.000000</td>\n",
       "      <td>0.000000</td>\n",
       "      <td>31.000000</td>\n",
       "    </tr>\n",
       "    <tr>\n",
       "      <th>max</th>\n",
       "      <td>891.000000</td>\n",
       "      <td>1.000000</td>\n",
       "      <td>3.000000</td>\n",
       "      <td>80.000000</td>\n",
       "      <td>8.000000</td>\n",
       "      <td>6.000000</td>\n",
       "      <td>512.329200</td>\n",
       "    </tr>\n",
       "  </tbody>\n",
       "</table>\n",
       "</div>"
      ],
      "text/plain": [
       "       PassengerId    Survived      Pclass         Age       SibSp  \\\n",
       "count   891.000000  891.000000  891.000000  714.000000  891.000000   \n",
       "mean    446.000000    0.383838    2.308642   29.699118    0.523008   \n",
       "std     257.353842    0.486592    0.836071   14.526497    1.102743   \n",
       "min       1.000000    0.000000    1.000000    0.420000    0.000000   \n",
       "25%     223.500000    0.000000    2.000000   20.125000    0.000000   \n",
       "50%     446.000000    0.000000    3.000000   28.000000    0.000000   \n",
       "75%     668.500000    1.000000    3.000000   38.000000    1.000000   \n",
       "max     891.000000    1.000000    3.000000   80.000000    8.000000   \n",
       "\n",
       "            Parch        Fare  \n",
       "count  891.000000  891.000000  \n",
       "mean     0.381594   32.204208  \n",
       "std      0.806057   49.693429  \n",
       "min      0.000000    0.000000  \n",
       "25%      0.000000    7.910400  \n",
       "50%      0.000000   14.454200  \n",
       "75%      0.000000   31.000000  \n",
       "max      6.000000  512.329200  "
      ]
     },
     "execution_count": 380,
     "metadata": {},
     "output_type": "execute_result"
    }
   ],
   "source": [
    "import matplotlib.pyplot as plt\n",
    "import numpy as np\n",
    "import pandas as pd\n",
    "import seaborn as sns\n",
    "import scipy.stats as stats\n",
    "from IPython.core.display import display, HTML\n",
    "\n",
    "filename = 'titanic_data.csv'\n",
    "df = pd.read_csv(filename)\n",
    "\n",
    "def pprint_df(df):\n",
    "    if type(df) == pd.DataFrame:\n",
    "        display(HTML(df.to_html()))\n",
    "    elif type(df) == pd.Series:\n",
    "        display(HTML(df.to_frame().to_html()))\n",
    "\n",
    "df.describe()"
   ]
  },
  {
   "cell_type": "code",
   "execution_count": 216,
   "metadata": {
    "collapsed": false
   },
   "outputs": [
    {
     "data": {
      "text/html": [
       "<div>\n",
       "<table border=\"1\" class=\"dataframe\">\n",
       "  <thead>\n",
       "    <tr style=\"text-align: right;\">\n",
       "      <th></th>\n",
       "      <th>PassengerId</th>\n",
       "      <th>Survived</th>\n",
       "      <th>Pclass</th>\n",
       "      <th>Name</th>\n",
       "      <th>Sex</th>\n",
       "      <th>Age</th>\n",
       "      <th>SibSp</th>\n",
       "      <th>Parch</th>\n",
       "      <th>Ticket</th>\n",
       "      <th>Fare</th>\n",
       "      <th>Cabin</th>\n",
       "      <th>Embarked</th>\n",
       "    </tr>\n",
       "  </thead>\n",
       "  <tbody>\n",
       "    <tr>\n",
       "      <th>0</th>\n",
       "      <td>1</td>\n",
       "      <td>0</td>\n",
       "      <td>3</td>\n",
       "      <td>Braund, Mr. Owen Harris</td>\n",
       "      <td>male</td>\n",
       "      <td>22.0</td>\n",
       "      <td>1</td>\n",
       "      <td>0</td>\n",
       "      <td>A/5 21171</td>\n",
       "      <td>7.2500</td>\n",
       "      <td>NaN</td>\n",
       "      <td>S</td>\n",
       "    </tr>\n",
       "    <tr>\n",
       "      <th>1</th>\n",
       "      <td>2</td>\n",
       "      <td>1</td>\n",
       "      <td>1</td>\n",
       "      <td>Cumings, Mrs. John Bradley (Florence Briggs Th...</td>\n",
       "      <td>female</td>\n",
       "      <td>38.0</td>\n",
       "      <td>1</td>\n",
       "      <td>0</td>\n",
       "      <td>PC 17599</td>\n",
       "      <td>71.2833</td>\n",
       "      <td>C85</td>\n",
       "      <td>C</td>\n",
       "    </tr>\n",
       "    <tr>\n",
       "      <th>2</th>\n",
       "      <td>3</td>\n",
       "      <td>1</td>\n",
       "      <td>3</td>\n",
       "      <td>Heikkinen, Miss. Laina</td>\n",
       "      <td>female</td>\n",
       "      <td>26.0</td>\n",
       "      <td>0</td>\n",
       "      <td>0</td>\n",
       "      <td>STON/O2. 3101282</td>\n",
       "      <td>7.9250</td>\n",
       "      <td>NaN</td>\n",
       "      <td>S</td>\n",
       "    </tr>\n",
       "    <tr>\n",
       "      <th>3</th>\n",
       "      <td>4</td>\n",
       "      <td>1</td>\n",
       "      <td>1</td>\n",
       "      <td>Futrelle, Mrs. Jacques Heath (Lily May Peel)</td>\n",
       "      <td>female</td>\n",
       "      <td>35.0</td>\n",
       "      <td>1</td>\n",
       "      <td>0</td>\n",
       "      <td>113803</td>\n",
       "      <td>53.1000</td>\n",
       "      <td>C123</td>\n",
       "      <td>S</td>\n",
       "    </tr>\n",
       "    <tr>\n",
       "      <th>4</th>\n",
       "      <td>5</td>\n",
       "      <td>0</td>\n",
       "      <td>3</td>\n",
       "      <td>Allen, Mr. William Henry</td>\n",
       "      <td>male</td>\n",
       "      <td>35.0</td>\n",
       "      <td>0</td>\n",
       "      <td>0</td>\n",
       "      <td>373450</td>\n",
       "      <td>8.0500</td>\n",
       "      <td>NaN</td>\n",
       "      <td>S</td>\n",
       "    </tr>\n",
       "  </tbody>\n",
       "</table>\n",
       "</div>"
      ],
      "text/plain": [
       "   PassengerId  Survived  Pclass  \\\n",
       "0            1         0       3   \n",
       "1            2         1       1   \n",
       "2            3         1       3   \n",
       "3            4         1       1   \n",
       "4            5         0       3   \n",
       "\n",
       "                                                Name     Sex   Age  SibSp  \\\n",
       "0                            Braund, Mr. Owen Harris    male  22.0      1   \n",
       "1  Cumings, Mrs. John Bradley (Florence Briggs Th...  female  38.0      1   \n",
       "2                             Heikkinen, Miss. Laina  female  26.0      0   \n",
       "3       Futrelle, Mrs. Jacques Heath (Lily May Peel)  female  35.0      1   \n",
       "4                           Allen, Mr. William Henry    male  35.0      0   \n",
       "\n",
       "   Parch            Ticket     Fare Cabin Embarked  \n",
       "0      0         A/5 21171   7.2500   NaN        S  \n",
       "1      0          PC 17599  71.2833   C85        C  \n",
       "2      0  STON/O2. 3101282   7.9250   NaN        S  \n",
       "3      0            113803  53.1000  C123        S  \n",
       "4      0            373450   8.0500   NaN        S  "
      ]
     },
     "execution_count": 216,
     "metadata": {},
     "output_type": "execute_result"
    }
   ],
   "source": [
    "df.head()"
   ]
  },
  {
   "cell_type": "markdown",
   "metadata": {},
   "source": [
    "# Overall Survival"
   ]
  },
  {
   "cell_type": "code",
   "execution_count": 237,
   "metadata": {
    "collapsed": false
   },
   "outputs": [
    {
     "name": "stdout",
     "output_type": "stream",
     "text": [
      "Overall survival proportion:  0.383838383838\n"
     ]
    },
    {
     "data": {
      "image/png": "[encoded data removed]",
      "text/plain": [
       "<matplotlib.figure.Figure at 0x7fbcaaf48290>"
      ]
     },
     "metadata": {},
     "output_type": "display_data"
    }
   ],
   "source": [
    "# Create a copy of the original\n",
    "df2 = df.copy(deep=True)\n",
    "# Update the survived Type\n",
    "df2.Survived = df2.Survived.apply(lambda x: True if x else False)\n",
    "\n",
    "grouped_survived = df2.groupby('Survived').count()['PassengerId']\n",
    "grouped_survived.plot(kind='bar', title='Frequency survived')\n",
    "print 'Overall survival proportion: ', grouped_survived[True] / float(grouped_survived.sum())"
   ]
  },
  {
   "cell_type": "markdown",
   "metadata": {},
   "source": [
    "# Survival vs Age"
   ]
  },
  {
   "cell_type": "code",
   "execution_count": 396,
   "metadata": {
    "collapsed": false
   },
   "outputs": [
    {
     "data": {
      "image/png": "[encoded data removed]",
      "text/plain": [
       "<matplotlib.figure.Figure at 0x7fbcaaad2050>"
      ]
     },
     "metadata": {},
     "output_type": "display_data"
    },
    {
     "data": {
      "text/plain": [
       "<matplotlib.axes._subplots.AxesSubplot at 0x7fbcaa8a2bd0>"
      ]
     },
     "execution_count": 396,
     "metadata": {},
     "output_type": "execute_result"
    },
    {
     "data": {
      "image/png": "[encoded data removed]",
      "text/plain": [
       "<matplotlib.figure.Figure at 0x7fbcaaeab090>"
      ]
     },
     "metadata": {},
     "output_type": "display_data"
    }
   ],
   "source": [
    "# Create age groups\n",
    "age_groups = np.array([0,10,20,30,40,50,60,70,80,90,100])\n",
    "# Group data by Survived and age group\n",
    "grouped_survived_age = df2.groupby(['Survived',pd.cut(df2['Age'],age_groups)]).count()\n",
    "grouped_survived_age = grouped_survived_age['PassengerId']\n",
    "grouped_survived_age = grouped_survived_age.rename('Frequency')\n",
    "grouped_survived_age = grouped_survived_age.unstack().transpose()\n",
    "grouped_survived_age.plot(kind = 'bar', stacked=True, title = 'Frequency of Survival vs Age')\n",
    "plt.show()\n",
    "# Describe the proportion of survival per age group\n",
    "survived_age_proportion = grouped_survived_age[True] / (grouped_survived_age[False] + grouped_survived_age[True])\n",
    "survived_age_proportion.plot(kind='bar', y='Proportion of Survived', title='Proportion survived vs Age')"
   ]
  },
  {
   "cell_type": "markdown",
   "metadata": {},
   "source": [
    "There is not a clear relationship between age and survival. However, the youngest and oldest have an inverse relationship with survival. The youngest passengers have the best survival rate and the oldest have the worst survival rate."
   ]
  },
  {
   "cell_type": "markdown",
   "metadata": {},
   "source": [
    "# Survival vs Gender"
   ]
  },
  {
   "cell_type": "code",
   "execution_count": 137,
   "metadata": {
    "collapsed": false
   },
   "outputs": [
    {
     "data": {
      "image/png": "[encoded data removed]",
      "text/plain": [
       "<matplotlib.figure.Figure at 0x7fbcabbd1890>"
      ]
     },
     "metadata": {},
     "output_type": "display_data"
    },
    {
     "data": {
      "text/plain": [
       "<matplotlib.axes._subplots.AxesSubplot at 0x7fbcac30eb50>"
      ]
     },
     "execution_count": 137,
     "metadata": {},
     "output_type": "execute_result"
    },
    {
     "data": {
      "image/png": "[encoded data removed]",
      "text/plain": [
       "<matplotlib.figure.Figure at 0x7fbcac1951d0>"
      ]
     },
     "metadata": {},
     "output_type": "display_data"
    }
   ],
   "source": [
    "grouped_survival_gender = df2.rename(columns={'Sex': 'Gender'})\n",
    "grouped_survival_gender = grouped_survival_gender[['Gender','Survived','PassengerId']].groupby(['Survived','Gender']).count()\n",
    "grouped_survival_gender = grouped_survival_gender['PassengerId'].rename('Frequency').unstack()\n",
    "grouped_survival_gender = grouped_survival_gender.transpose()\n",
    "grouped_survival_gender.plot(kind='bar', stacked=True, title='Frequency of Survival vs Gender')\n",
    "plt.show()\n",
    "survival_gender_proportion = grouped_survival_gender[True] / (grouped_survival_gender[True] + grouped_survival_gender[False])\n",
    "survival_gender_proportion.plot(kind='bar',title='Proportion of survival vs Gender')"
   ]
  },
  {
   "cell_type": "markdown",
   "metadata": {},
   "source": [
    "Females appear to have a significantly better survival rate than men. We will need to determine if this difference is statistically significant. For the independent variable, gender, we will use a chi-squared goodness-of-fit test to determine if the observed frequencies for female passengers fits the expected survivability.\n",
    "\n",
    "Null Hypothesis: Gender and survivability are independent\n",
    "\n",
    "Alternate Hypothesis: Gender and survivability are not independent\n",
    "\n",
    "http://hamelg.blogspot.com/2015/11/python-for-data-analysis-part-25-chi.html"
   ]
  },
  {
   "cell_type": "code",
   "execution_count": 367,
   "metadata": {
    "collapsed": false
   },
   "outputs": [
    {
     "name": "stdout",
     "output_type": "stream",
     "text": [
      "total survival:  891\n",
      "chi-squared value:  170.348127092\n",
      "Critical value:  3.84145882069\n",
      "p-value:  0.0\n",
      "Power_divergenceResult(statistic=170.34812709177143, pvalue=6.2105848997692429e-39)\n"
     ]
    }
   ],
   "source": [
    "\n",
    "\n",
    "confidence = 0.95\n",
    "df = 1\n",
    "total_survival = grouped_survived.sum()\n",
    "female_survival = grouped_survival_gender.loc['female']\n",
    "expected_ratios = grouped_survived / total_survival\n",
    "expected_counts = female_survival.sum() * expected_ratios\n",
    "\n",
    "chi_squared_stat = (((female_survival-expected_counts)**2)/expected_counts).sum()\n",
    "crit = stats.chi2.ppf(q=confidence, df=df)\n",
    "p_value = 1 - stats.chi2.cdf(x=chi_squared_stat, df=df)\n",
    "\n",
    "# Confirm our result using the automated results\n",
    "results = stats.chisquare(f_obs= female_survival,f_exp= expected_counts)\n",
    "\n",
    "print 'total survival: ', total_survival\n",
    "print 'chi-squared value: ', chi_squared_stat\n",
    "print 'Critical value: ', crit\n",
    "print 'p-value: ', p_value\n",
    "print results"
   ]
  },
  {
   "cell_type": "markdown",
   "metadata": {},
   "source": [
    "Validating our assumptions for the chi-squared test:\n",
    "\n",
    "- [x] Observations are indepedent\n",
    "- [x] Categories are mututally exclusive\n",
    "- [x] Expected frequencies > 5\n",
    "\n",
    "Presenting the results:\n",
    "\n",
    "$$\n",
    "chi^2-squared(1, N=891) = 170.348, P < .05\n",
    "$$\n",
    "\n",
    "At a confidence level of 95%, this is very statistically significant. Gender is not independent of survivability.\n",
    "\n",
    "https://pythonfordatascience.org/chi-square-python/"
   ]
  },
  {
   "cell_type": "markdown",
   "metadata": {},
   "source": [
    "# Survival vs Passenger Class"
   ]
  },
  {
   "cell_type": "code",
   "execution_count": 154,
   "metadata": {
    "collapsed": false
   },
   "outputs": [
    {
     "data": {
      "image/png": "[encoded data removed]",
      "text/plain": [
       "<matplotlib.figure.Figure at 0x7fbcab56f190>"
      ]
     },
     "metadata": {},
     "output_type": "display_data"
    },
    {
     "data": {
      "text/plain": [
       "<matplotlib.axes._subplots.AxesSubplot at 0x7fbcab554350>"
      ]
     },
     "execution_count": 154,
     "metadata": {},
     "output_type": "execute_result"
    },
    {
     "data": {
      "image/png": "[encoded data removed]",
      "text/plain": [
       "<matplotlib.figure.Figure at 0x7fbcab7e7750>"
      ]
     },
     "metadata": {},
     "output_type": "display_data"
    }
   ],
   "source": [
    "grouped_survival_class = df2[['Survived','Pclass','PassengerId']].groupby(['Survived','Pclass']).count()\n",
    "grouped_survival_class = grouped_survival_class['PassengerId'].rename('Frequency').unstack()\n",
    "grouped_survival_class = grouped_survival_class.transpose()\n",
    "grouped_survival_class.plot(kind='bar',stacked=True,title='Frequency of Survival vs Passenger Class')\n",
    "plt.show()\n",
    "survival_class_proportion = grouped_survival_class[True] / grouped_survival_class.sum(axis=1)\n",
    "survival_class_proportion.plot(kind='bar',title='Proportion of Survival vs Passenger Class')"
   ]
  },
  {
   "cell_type": "markdown",
   "metadata": {},
   "source": [
    "There appears to be a correlation between passenger class and survival. We will need to test this further. Once again, we will use a chi-squared test."
   ]
  },
  {
   "cell_type": "code",
   "execution_count": 383,
   "metadata": {
    "collapsed": false
   },
   "outputs": [
    {
     "name": "stdout",
     "output_type": "stream",
     "text": [
      "Power_divergenceResult(statistic=array([ 55.17515099,   6.16076687,  41.55307089]), pvalue=array([  1.10253810e-13,   1.30614569e-02,   1.14714147e-10]))\n"
     ]
    },
    {
     "data": {
      "text/html": [
       "<table border=\"1\" class=\"dataframe\">\n",
       "  <thead>\n",
       "    <tr style=\"text-align: right;\">\n",
       "      <th></th>\n",
       "      <th>PassengerId</th>\n",
       "    </tr>\n",
       "    <tr>\n",
       "      <th>Survived</th>\n",
       "      <th></th>\n",
       "    </tr>\n",
       "  </thead>\n",
       "  <tbody>\n",
       "    <tr>\n",
       "      <th>False</th>\n",
       "      <td>0.616162</td>\n",
       "    </tr>\n",
       "    <tr>\n",
       "      <th>True</th>\n",
       "      <td>0.383838</td>\n",
       "    </tr>\n",
       "  </tbody>\n",
       "</table>"
      ],
      "text/plain": [
       "<IPython.core.display.HTML object>"
      ]
     },
     "metadata": {},
     "output_type": "display_data"
    },
    {
     "data": {
      "text/html": [
       "<table border=\"1\" class=\"dataframe\">\n",
       "  <thead>\n",
       "    <tr style=\"text-align: right;\">\n",
       "      <th></th>\n",
       "      <th>0</th>\n",
       "    </tr>\n",
       "    <tr>\n",
       "      <th>Pclass</th>\n",
       "      <th></th>\n",
       "    </tr>\n",
       "  </thead>\n",
       "  <tbody>\n",
       "    <tr>\n",
       "      <th>1</th>\n",
       "      <td>216</td>\n",
       "    </tr>\n",
       "    <tr>\n",
       "      <th>2</th>\n",
       "      <td>184</td>\n",
       "    </tr>\n",
       "    <tr>\n",
       "      <th>3</th>\n",
       "      <td>491</td>\n",
       "    </tr>\n",
       "  </tbody>\n",
       "</table>"
      ],
      "text/plain": [
       "<IPython.core.display.HTML object>"
      ]
     },
     "metadata": {},
     "output_type": "display_data"
    },
    {
     "data": {
      "text/html": [
       "<table border=\"1\" class=\"dataframe\">\n",
       "  <thead>\n",
       "    <tr style=\"text-align: right;\">\n",
       "      <th>Pclass</th>\n",
       "      <th>1</th>\n",
       "      <th>2</th>\n",
       "      <th>3</th>\n",
       "    </tr>\n",
       "    <tr>\n",
       "      <th>Survived</th>\n",
       "      <th></th>\n",
       "      <th></th>\n",
       "      <th></th>\n",
       "    </tr>\n",
       "  </thead>\n",
       "  <tbody>\n",
       "    <tr>\n",
       "      <th>False</th>\n",
       "      <td>133.090909</td>\n",
       "      <td>113.373737</td>\n",
       "      <td>302.535354</td>\n",
       "    </tr>\n",
       "    <tr>\n",
       "      <th>True</th>\n",
       "      <td>82.909091</td>\n",
       "      <td>70.626263</td>\n",
       "      <td>188.464646</td>\n",
       "    </tr>\n",
       "  </tbody>\n",
       "</table>"
      ],
      "text/plain": [
       "<IPython.core.display.HTML object>"
      ]
     },
     "metadata": {},
     "output_type": "display_data"
    },
    {
     "data": {
      "text/html": [
       "<table border=\"1\" class=\"dataframe\">\n",
       "  <thead>\n",
       "    <tr style=\"text-align: right;\">\n",
       "      <th>Survived</th>\n",
       "      <th>False</th>\n",
       "      <th>True</th>\n",
       "    </tr>\n",
       "    <tr>\n",
       "      <th>Pclass</th>\n",
       "      <th></th>\n",
       "      <th></th>\n",
       "    </tr>\n",
       "  </thead>\n",
       "  <tbody>\n",
       "    <tr>\n",
       "      <th>1</th>\n",
       "      <td>80</td>\n",
       "      <td>136</td>\n",
       "    </tr>\n",
       "    <tr>\n",
       "      <th>2</th>\n",
       "      <td>97</td>\n",
       "      <td>87</td>\n",
       "    </tr>\n",
       "    <tr>\n",
       "      <th>3</th>\n",
       "      <td>372</td>\n",
       "      <td>119</td>\n",
       "    </tr>\n",
       "  </tbody>\n",
       "</table>"
      ],
      "text/plain": [
       "<IPython.core.display.HTML object>"
      ]
     },
     "metadata": {},
     "output_type": "display_data"
    },
    {
     "data": {
      "text/html": [
       "<table border=\"1\" class=\"dataframe\">\n",
       "  <thead>\n",
       "    <tr style=\"text-align: right;\">\n",
       "      <th>Survived</th>\n",
       "      <th>False</th>\n",
       "      <th>True</th>\n",
       "    </tr>\n",
       "    <tr>\n",
       "      <th>Pclass</th>\n",
       "      <th></th>\n",
       "      <th></th>\n",
       "    </tr>\n",
       "  </thead>\n",
       "  <tbody>\n",
       "    <tr>\n",
       "      <th>1</th>\n",
       "      <td>133.090909</td>\n",
       "      <td>82.909091</td>\n",
       "    </tr>\n",
       "    <tr>\n",
       "      <th>2</th>\n",
       "      <td>113.373737</td>\n",
       "      <td>70.626263</td>\n",
       "    </tr>\n",
       "    <tr>\n",
       "      <th>3</th>\n",
       "      <td>302.535354</td>\n",
       "      <td>188.464646</td>\n",
       "    </tr>\n",
       "  </tbody>\n",
       "</table>"
      ],
      "text/plain": [
       "<IPython.core.display.HTML object>"
      ]
     },
     "metadata": {},
     "output_type": "display_data"
    },
    {
     "name": "stdout",
     "output_type": "stream",
     "text": [
      "(102.88898875696056, 4.5492517112987927e-23, 2, array([[ 133.09090909,  113.37373737,  302.53535354],\n",
      "       [  82.90909091,   70.62626263,  188.46464646]]))\n",
      "(102.88898875696056, 4.5492517112987927e-23, 2, array([[ 133.09090909,  113.37373737,  302.53535354],\n",
      "       [  82.90909091,   70.62626263,  188.46464646]]))\n"
     ]
    }
   ],
   "source": [
    "total_survival = grouped_survived.sum()\n",
    "expected_ratios = grouped_survived / total_survival\n",
    "passengers_by_class = grouped_survival_class.sum(axis=1)\n",
    "\n",
    "# Manual calculation of chi-squared expected values\n",
    "zero_data = np.zeros(shape=(len(expected_ratios),len(passengers_by_class)))\n",
    "rows = passengers_by_class.keys()\n",
    "columns = expected_ratios.keys()\n",
    "d = pd.DataFrame(zero_data, columns=rows, index=columns)\n",
    "expected_counts = (d + passengers_by_class).multiply(expected_ratios, axis=0)\n",
    "print stats.chisquare(f_obs=grouped_survival_class.transpose(), f_exp=expected_counts)\n",
    "\n",
    "pprint_df(expected_ratios)\n",
    "pprint_df(passengers_by_class)\n",
    "pprint_df(expected_counts)\n",
    "pprint_df(grouped_survival_class)\n",
    "pprint_df(expected_counts.transpose())\n",
    "\n",
    "# Automated calculation of chi-squared\n",
    "print stats.chi2_contingency(grouped_survival_class.transpose())\n",
    "\n",
    "# Automated tabulation and chi-squared\n",
    "print stats.chi2_contingency(pd.crosstab(df2['Survived'],df2['Pclass']))"
   ]
  },
  {
   "cell_type": "markdown",
   "metadata": {},
   "source": [
    "Validating our assumptions for the chi-squared test.\n",
    "\n",
    "- [x] Observations are indepedent\n",
    "- [x] Categories are mututally exclusive\n",
    "- [x] Expected frequencies > 5\n",
    "\n",
    "$$\n",
    "chi^2(2,N=891) = 102.88898875696056, P < .05\n",
    "$$\n",
    "\n",
    "At a confidence level of 95%, this is very statistically significant. Passenger class is not independent of survivability."
   ]
  },
  {
   "cell_type": "markdown",
   "metadata": {},
   "source": [
    "# Survival vs Passenger Cabin Location"
   ]
  },
  {
   "cell_type": "code",
   "execution_count": 243,
   "metadata": {
    "collapsed": false
   },
   "outputs": [
    {
     "data": {
      "image/png": "[encoded data removed]",
      "text/plain": [
       "<matplotlib.figure.Figure at 0x7fbcabf7db90>"
      ]
     },
     "metadata": {},
     "output_type": "display_data"
    },
    {
     "data": {
      "image/png": "[encoded data removed]",
      "text/plain": [
       "<matplotlib.figure.Figure at 0x7fbcaae86b90>"
      ]
     },
     "metadata": {},
     "output_type": "display_data"
    },
    {
     "data": {
      "image/png": "[encoded data removed]",
      "text/plain": [
       "<matplotlib.figure.Figure at 0x7fbcaadbcf90>"
      ]
     },
     "metadata": {},
     "output_type": "display_data"
    },
    {
     "data": {
      "text/plain": [
       "<matplotlib.axes._subplots.AxesSubplot at 0x7fbcaaf27610>"
      ]
     },
     "execution_count": 243,
     "metadata": {},
     "output_type": "execute_result"
    },
    {
     "data": {
      "image/png": "[encoded data removed]",
      "text/plain": [
       "<matplotlib.figure.Figure at 0x7fbcaa88c950>"
      ]
     },
     "metadata": {},
     "output_type": "display_data"
    }
   ],
   "source": [
    "def convert_cabin_to_deck(cabin):\n",
    "    if isinstance(cabin, float) and pd.isnull(cabin):\n",
    "        return cabin\n",
    "    else:\n",
    "        cabins = cabin.split(' ')\n",
    "        for room in cabins:\n",
    "            if len(room) > 1:\n",
    "                return room[0]\n",
    "        return np.nan\n",
    "    \n",
    "def convert_cabin_to_ship_side(cabin):\n",
    "    if isinstance(cabin, float) and pd.isnull(cabin):\n",
    "        return cabin\n",
    "    else:\n",
    "        cabins = cabin.split(' ')\n",
    "        for room in cabins:\n",
    "            if len(room) > 1:\n",
    "                if int(room[1:]) % 2 == 0:\n",
    "                    return 'Port'\n",
    "                else:\n",
    "                    return 'Starboard'\n",
    "        return np.nan\n",
    "\n",
    "grouped_survival_cabin = df2[['Survived','Cabin','PassengerId']]\n",
    "grouped_survival_cabin = grouped_survival_cabin.assign(Deck = grouped_survival_cabin['Cabin'].apply(convert_cabin_to_deck))\n",
    "grouped_survival_cabin = grouped_survival_cabin.assign(ShipSide = grouped_survival_cabin['Cabin'].apply(convert_cabin_to_ship_side))\n",
    "grouped_survival_deck = grouped_survival_cabin.groupby(['Survived','Deck'])['PassengerId'].count().unstack().transpose()\n",
    "grouped_survival_deck.plot(kind='bar',stacked=True,title='Frequency of Survived vs cabin deck')\n",
    "plt.show()\n",
    "grouped_survival_deck_proportion = grouped_survival_deck[True] / grouped_survival_deck.sum(axis=1)\n",
    "grouped_survival_deck_proportion.plot(kind='bar',title='Proportion of Survived vs cabin deck')\n",
    "grouped_survival_shipside = grouped_survival_cabin.groupby(['Survived','ShipSide'])['PassengerId'].count().unstack().transpose()\n",
    "grouped_survival_shipside.plot(kind='bar',stacked=True,title='Frequency of Survivability vs cabin side of ship')\n",
    "plt.show()\n",
    "grouped_survival_shipside_proportion = grouped_survival_shipside[True] / grouped_survival_shipside.sum(axis = 1)\n",
    "grouped_survival_shipside_proportion.plot(kind='bar',title='Proportion of Survived vs cabin side of ship')"
   ]
  },
  {
   "cell_type": "markdown",
   "metadata": {},
   "source": [
    "There appears to be a relationship between the side of the ship a cabin is located and survivability. In our sample, there are more passengers on the Port side of the ship. Furthermore, the wikipedia sources above suggest that several lifeboats on the Port side were sent partially filled.\n",
    "\n",
    "Null Hypothesis: There is no relationship between cabin side and survivability.\n",
    "\n",
    "Alternative Hypothesis: There is a relationship between cabin side and survivability.\n",
    "\n",
    "We must validate our assumptions for the chi-squared test.\n",
    "\n",
    "- [x] Observations are indepedent\n",
    "- [x] Categories are mututally exclusive\n",
    "- [x] Expected frequencies > 5"
   ]
  },
  {
   "cell_type": "code",
   "execution_count": 390,
   "metadata": {
    "collapsed": false
   },
   "outputs": [
    {
     "name": "stdout",
     "output_type": "stream",
     "text": [
      "(3.1262586205264111, 0.077040358396788494, 1, array([[ 35.64,  72.36],\n",
      "       [ 30.36,  61.64]]))\n",
      "200\n"
     ]
    }
   ],
   "source": [
    "print stats.chi2_contingency(grouped_survival_shipside)\n",
    "print grouped_survival_shipside.sum().sum()"
   ]
  },
  {
   "cell_type": "markdown",
   "metadata": {},
   "source": [
    "\n",
    "$$\n",
    "chi^2-squared(1,N=200) = 3.1262586205264111, P < .10\n",
    "$$\n",
    "\n",
    "At a confidence level of 95%, this is not statistically significant. We retain the Null Hypothesis that\n",
    "there is no relationship between cabin side and survivability."
   ]
  },
  {
   "cell_type": "code",
   "execution_count": null,
   "metadata": {
    "collapsed": true
   },
   "outputs": [],
   "source": []
  }
 ],
 "metadata": {
  "anaconda-cloud": {},
  "kernelspec": {
   "display_name": "Python [default]",
   "language": "python",
   "name": "python2"
  },
  "language_info": {
   "codemirror_mode": {
    "name": "ipython",
    "version": 2
   },
   "file_extension": ".py",
   "mimetype": "text/x-python",
   "name": "python",
   "nbconvert_exporter": "python",
   "pygments_lexer": "ipython2",
   "version": "2.7.12"
  }
 },
 "nbformat": 4,
 "nbformat_minor": 1
}
